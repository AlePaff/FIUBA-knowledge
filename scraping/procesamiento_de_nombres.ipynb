{
  "nbformat": 4,
  "nbformat_minor": 0,
  "metadata": {
    "colab": {
      "name": "procesamiento de nombres.ipynb",
      "provenance": [],
      "collapsed_sections": [
        "oh8JD_epcWlI",
        "dYjYlx_GRF3N",
        "6Oc9HaIYSa1i",
        "WtMPbFMwqEhN"
      ]
    },
    "kernelspec": {
      "name": "python3",
      "display_name": "Python 3"
    },
    "language_info": {
      "name": "python"
    }
  },
  "cells": [
    {
      "cell_type": "code",
      "source": [
        "import pandas as pd\n",
        "import numpy as np\n",
        "\n",
        "from pydrive.auth import GoogleAuth\n",
        "from pydrive.drive import GoogleDrive\n",
        "from google.colab import auth\n",
        "from oauth2client.client import GoogleCredentials\n",
        "\n",
        "auth.authenticate_user()\n",
        "gauth = GoogleAuth()\n",
        "gauth.credentials = GoogleCredentials.get_application_default()\n",
        "drive = GoogleDrive(gauth)\n",
        "\n",
        "downloaded = drive.CreateFile({'id': '1xj78CNKOvswnTZ7_wIfFr-v9Pt3mV5-C'})\n",
        "downloaded.GetContentFile('con links cargados.csv')\n",
        "\n",
        "textos=pd.read_csv('con links cargados.csv')"
      ],
      "metadata": {
        "id": "_KJBnjcB5DfO"
      },
      "execution_count": 1,
      "outputs": []
    },
    {
      "cell_type": "markdown",
      "source": [
        "##Analisis exploratorio"
      ],
      "metadata": {
        "id": "oh8JD_epcWlI"
      }
    },
    {
      "cell_type": "code",
      "execution_count": 2,
      "metadata": {
        "id": "CLyHCeqY-NJ0",
        "colab": {
          "base_uri": "https://localhost:8080/",
          "height": 645
        },
        "outputId": "eea22a05-956b-41e1-98ee-56fdbbee58ff"
      },
      "outputs": [
        {
          "output_type": "execute_result",
          "data": {
            "text/html": [
              "\n",
              "  <div id=\"df-28ca9058-5584-4dd6-a5ac-d28a8b4f454f\">\n",
              "    <div class=\"colab-df-container\">\n",
              "      <div>\n",
              "<style scoped>\n",
              "    .dataframe tbody tr th:only-of-type {\n",
              "        vertical-align: middle;\n",
              "    }\n",
              "\n",
              "    .dataframe tbody tr th {\n",
              "        vertical-align: top;\n",
              "    }\n",
              "\n",
              "    .dataframe thead th {\n",
              "        text-align: right;\n",
              "    }\n",
              "</style>\n",
              "<table border=\"1\" class=\"dataframe\">\n",
              "  <thead>\n",
              "    <tr style=\"text-align: right;\">\n",
              "      <th></th>\n",
              "      <th>asignaturas</th>\n",
              "      <th>planificaciones</th>\n",
              "    </tr>\n",
              "    <tr>\n",
              "      <th>asignaturasDeptos</th>\n",
              "      <th></th>\n",
              "      <th></th>\n",
              "    </tr>\n",
              "  </thead>\n",
              "  <tbody>\n",
              "    <tr>\n",
              "      <th>https://www.fi.uba.ar/institucional/departamentos/electronica/asignaturas</th>\n",
              "      <td>212</td>\n",
              "      <td>212</td>\n",
              "    </tr>\n",
              "    <tr>\n",
              "      <th>https://www.fi.uba.ar/institucional/departamentos/computacion/asignaturas</th>\n",
              "      <td>115</td>\n",
              "      <td>115</td>\n",
              "    </tr>\n",
              "    <tr>\n",
              "      <th>https://www.fi.uba.ar/institucional/departamentos/gestion/asignaturas</th>\n",
              "      <td>98</td>\n",
              "      <td>98</td>\n",
              "    </tr>\n",
              "    <tr>\n",
              "      <th>https://www.fi.uba.ar/institucional/departamentos/energia/asignaturas</th>\n",
              "      <td>94</td>\n",
              "      <td>94</td>\n",
              "    </tr>\n",
              "    <tr>\n",
              "      <th>https://www.fi.uba.ar/institucional/departamentos/ingenieria-mecanica/asignaturas</th>\n",
              "      <td>85</td>\n",
              "      <td>85</td>\n",
              "    </tr>\n",
              "    <tr>\n",
              "      <th>https://www.fi.uba.ar/institucional/departamentos/ingenieria-quimica/asignaturas</th>\n",
              "      <td>48</td>\n",
              "      <td>46</td>\n",
              "    </tr>\n",
              "    <tr>\n",
              "      <th>https://www.fi.uba.ar/institucional/departamentos/agrimensura/asignaturas</th>\n",
              "      <td>47</td>\n",
              "      <td>47</td>\n",
              "    </tr>\n",
              "    <tr>\n",
              "      <th>https://www.fi.uba.ar/institucional/departamentos/tecnologia-industrial/asignaturas</th>\n",
              "      <td>45</td>\n",
              "      <td>45</td>\n",
              "    </tr>\n",
              "    <tr>\n",
              "      <th>https://www.fi.uba.ar/institucional/departamentos/departamento-de-construcciones-y-estructuras/asignaturas</th>\n",
              "      <td>43</td>\n",
              "      <td>43</td>\n",
              "    </tr>\n",
              "    <tr>\n",
              "      <th>https://www.fi.uba.ar/institucional/departamentos/estabilidad/asignaturas</th>\n",
              "      <td>29</td>\n",
              "      <td>29</td>\n",
              "    </tr>\n",
              "    <tr>\n",
              "      <th>https://www.fi.uba.ar/institucional/departamentos/hidraulica/asignaturas</th>\n",
              "      <td>29</td>\n",
              "      <td>29</td>\n",
              "    </tr>\n",
              "    <tr>\n",
              "      <th>https://www.fi.uba.ar/institucional/departamentos/transporte/asignaturas</th>\n",
              "      <td>27</td>\n",
              "      <td>27</td>\n",
              "    </tr>\n",
              "    <tr>\n",
              "      <th>https://www.fi.uba.ar/institucional/departamentos/fisica/asignaturas</th>\n",
              "      <td>27</td>\n",
              "      <td>27</td>\n",
              "    </tr>\n",
              "    <tr>\n",
              "      <th>https://www.fi.uba.ar/institucional/departamentos/matematica/asignaturas</th>\n",
              "      <td>23</td>\n",
              "      <td>23</td>\n",
              "    </tr>\n",
              "    <tr>\n",
              "      <th>https://www.fi.uba.ar/institucional/departamentos/ingenieria-naval/asignaturas</th>\n",
              "      <td>18</td>\n",
              "      <td>18</td>\n",
              "    </tr>\n",
              "    <tr>\n",
              "      <th>https://www.fi.uba.ar/institucional/departamentos/idiomas/asignaturas</th>\n",
              "      <td>18</td>\n",
              "      <td>18</td>\n",
              "    </tr>\n",
              "    <tr>\n",
              "      <th>https://www.fi.uba.ar/institucional/departamentos/quimica/asignaturas</th>\n",
              "      <td>14</td>\n",
              "      <td>14</td>\n",
              "    </tr>\n",
              "    <tr>\n",
              "      <th>https://www.fi.uba.ar/institucional/departamentos/seguridad-del-trabajo-y-ambiente/asignaturas</th>\n",
              "      <td>11</td>\n",
              "      <td>11</td>\n",
              "    </tr>\n",
              "  </tbody>\n",
              "</table>\n",
              "</div>\n",
              "      <button class=\"colab-df-convert\" onclick=\"convertToInteractive('df-28ca9058-5584-4dd6-a5ac-d28a8b4f454f')\"\n",
              "              title=\"Convert this dataframe to an interactive table.\"\n",
              "              style=\"display:none;\">\n",
              "        \n",
              "  <svg xmlns=\"http://www.w3.org/2000/svg\" height=\"24px\"viewBox=\"0 0 24 24\"\n",
              "       width=\"24px\">\n",
              "    <path d=\"M0 0h24v24H0V0z\" fill=\"none\"/>\n",
              "    <path d=\"M18.56 5.44l.94 2.06.94-2.06 2.06-.94-2.06-.94-.94-2.06-.94 2.06-2.06.94zm-11 1L8.5 8.5l.94-2.06 2.06-.94-2.06-.94L8.5 2.5l-.94 2.06-2.06.94zm10 10l.94 2.06.94-2.06 2.06-.94-2.06-.94-.94-2.06-.94 2.06-2.06.94z\"/><path d=\"M17.41 7.96l-1.37-1.37c-.4-.4-.92-.59-1.43-.59-.52 0-1.04.2-1.43.59L10.3 9.45l-7.72 7.72c-.78.78-.78 2.05 0 2.83L4 21.41c.39.39.9.59 1.41.59.51 0 1.02-.2 1.41-.59l7.78-7.78 2.81-2.81c.8-.78.8-2.07 0-2.86zM5.41 20L4 18.59l7.72-7.72 1.47 1.35L5.41 20z\"/>\n",
              "  </svg>\n",
              "      </button>\n",
              "      \n",
              "  <style>\n",
              "    .colab-df-container {\n",
              "      display:flex;\n",
              "      flex-wrap:wrap;\n",
              "      gap: 12px;\n",
              "    }\n",
              "\n",
              "    .colab-df-convert {\n",
              "      background-color: #E8F0FE;\n",
              "      border: none;\n",
              "      border-radius: 50%;\n",
              "      cursor: pointer;\n",
              "      display: none;\n",
              "      fill: #1967D2;\n",
              "      height: 32px;\n",
              "      padding: 0 0 0 0;\n",
              "      width: 32px;\n",
              "    }\n",
              "\n",
              "    .colab-df-convert:hover {\n",
              "      background-color: #E2EBFA;\n",
              "      box-shadow: 0px 1px 2px rgba(60, 64, 67, 0.3), 0px 1px 3px 1px rgba(60, 64, 67, 0.15);\n",
              "      fill: #174EA6;\n",
              "    }\n",
              "\n",
              "    [theme=dark] .colab-df-convert {\n",
              "      background-color: #3B4455;\n",
              "      fill: #D2E3FC;\n",
              "    }\n",
              "\n",
              "    [theme=dark] .colab-df-convert:hover {\n",
              "      background-color: #434B5C;\n",
              "      box-shadow: 0px 1px 3px 1px rgba(0, 0, 0, 0.15);\n",
              "      filter: drop-shadow(0px 1px 2px rgba(0, 0, 0, 0.3));\n",
              "      fill: #FFFFFF;\n",
              "    }\n",
              "  </style>\n",
              "\n",
              "      <script>\n",
              "        const buttonEl =\n",
              "          document.querySelector('#df-28ca9058-5584-4dd6-a5ac-d28a8b4f454f button.colab-df-convert');\n",
              "        buttonEl.style.display =\n",
              "          google.colab.kernel.accessAllowed ? 'block' : 'none';\n",
              "\n",
              "        async function convertToInteractive(key) {\n",
              "          const element = document.querySelector('#df-28ca9058-5584-4dd6-a5ac-d28a8b4f454f');\n",
              "          const dataTable =\n",
              "            await google.colab.kernel.invokeFunction('convertToInteractive',\n",
              "                                                     [key], {});\n",
              "          if (!dataTable) return;\n",
              "\n",
              "          const docLinkHtml = 'Like what you see? Visit the ' +\n",
              "            '<a target=\"_blank\" href=https://colab.research.google.com/notebooks/data_table.ipynb>data table notebook</a>'\n",
              "            + ' to learn more about interactive tables.';\n",
              "          element.innerHTML = '';\n",
              "          dataTable['output_type'] = 'display_data';\n",
              "          await google.colab.output.renderOutput(dataTable, element);\n",
              "          const docLink = document.createElement('div');\n",
              "          docLink.innerHTML = docLinkHtml;\n",
              "          element.appendChild(docLink);\n",
              "        }\n",
              "      </script>\n",
              "    </div>\n",
              "  </div>\n",
              "  "
            ],
            "text/plain": [
              "                                                    asignaturas  planificaciones\n",
              "asignaturasDeptos                                                               \n",
              "https://www.fi.uba.ar/institucional/departament...          212              212\n",
              "https://www.fi.uba.ar/institucional/departament...          115              115\n",
              "https://www.fi.uba.ar/institucional/departament...           98               98\n",
              "https://www.fi.uba.ar/institucional/departament...           94               94\n",
              "https://www.fi.uba.ar/institucional/departament...           85               85\n",
              "https://www.fi.uba.ar/institucional/departament...           48               46\n",
              "https://www.fi.uba.ar/institucional/departament...           47               47\n",
              "https://www.fi.uba.ar/institucional/departament...           45               45\n",
              "https://www.fi.uba.ar/institucional/departament...           43               43\n",
              "https://www.fi.uba.ar/institucional/departament...           29               29\n",
              "https://www.fi.uba.ar/institucional/departament...           29               29\n",
              "https://www.fi.uba.ar/institucional/departament...           27               27\n",
              "https://www.fi.uba.ar/institucional/departament...           27               27\n",
              "https://www.fi.uba.ar/institucional/departament...           23               23\n",
              "https://www.fi.uba.ar/institucional/departament...           18               18\n",
              "https://www.fi.uba.ar/institucional/departament...           18               18\n",
              "https://www.fi.uba.ar/institucional/departament...           14               14\n",
              "https://www.fi.uba.ar/institucional/departament...           11               11"
            ]
          },
          "metadata": {},
          "execution_count": 2
        }
      ],
      "source": [
        "textos.groupby(\"asignaturasDeptos\").count().sort_values(by=['asignaturas'], ascending = False)\n",
        "\n",
        "# df.nunique().to_frame().T"
      ]
    },
    {
      "cell_type": "code",
      "source": [
        "textos[\"planificaciones\"]"
      ],
      "metadata": {
        "colab": {
          "base_uri": "https://localhost:8080/"
        },
        "id": "CD4MwX-4r5IJ",
        "outputId": "bf33e27c-13ee-45f8-d48d-ad2abbf6f7aa"
      },
      "execution_count": 31,
      "outputs": [
        {
          "output_type": "execute_result",
          "data": {
            "text/plain": [
              "0      https://cms.fi.uba.ar/uploads/7000_f3e5b5598f.pdf\n",
              "1      https://cms.fi.uba.ar/uploads/7001_d6c8e9d00f.pdf\n",
              "2      https://cms.fi.uba.ar/uploads/7002_64d783b823.pdf\n",
              "3      https://cms.fi.uba.ar/uploads/7003_b7b9d87b24.pdf\n",
              "4      https://cms.fi.uba.ar/uploads/7004_334c8672cb.pdf\n",
              "                             ...                        \n",
              "978    https://cms.fi.uba.ar/uploads/8810_0e4dd94754.pdf\n",
              "979    https://cms.fi.uba.ar/uploads/8811_80899054e3.pdf\n",
              "980    https://cms.fi.uba.ar/uploads/8812_a4155b47ac.pdf\n",
              "981    https://cms.fi.uba.ar/uploads/8813_baf51c5493.pdf\n",
              "982    https://cms.fi.uba.ar/uploads/8814_213fffa227.pdf\n",
              "Name: planificaciones, Length: 983, dtype: object"
            ]
          },
          "metadata": {},
          "execution_count": 31
        }
      ]
    },
    {
      "cell_type": "code",
      "source": [
        "#asignaturas que no tienen un pdf válido\n",
        "textos[~textos[\"planificaciones\"].str.contains(\"cms.fi.uba.ar\", na=False)]"
      ],
      "metadata": {
        "id": "B9JCEoFRahyt"
      },
      "execution_count": null,
      "outputs": []
    },
    {
      "cell_type": "code",
      "source": [
        "textos = textos[textos[\"planificaciones\"].str.contains(\"cms.fi.uba.ar\", na=False)]"
      ],
      "metadata": {
        "id": "G_k1sYp8bnjH"
      },
      "execution_count": 31,
      "outputs": []
    },
    {
      "cell_type": "markdown",
      "source": [
        "##PDF's"
      ],
      "metadata": {
        "id": "ByfaOk6bRQjd"
      }
    },
    {
      "cell_type": "markdown",
      "source": [
        "###pdfPlumber"
      ],
      "metadata": {
        "id": "CxVQuaegqget"
      }
    },
    {
      "cell_type": "code",
      "source": [
        "!pip install pdfplumber"
      ],
      "metadata": {
        "id": "UnhQsmYsRchJ"
      },
      "execution_count": null,
      "outputs": []
    },
    {
      "cell_type": "code",
      "source": [
        "import urllib3\n",
        "import pdfplumber\n",
        "import io\n",
        "\n",
        "# https://github.com/jsvine/pdfplumber\n",
        "urllib3.disable_warnings(urllib3.exceptions.InsecureRequestWarning)"
      ],
      "metadata": {
        "id": "NGhqiCs_Raba"
      },
      "execution_count": 4,
      "outputs": []
    },
    {
      "cell_type": "code",
      "source": [
        "#https://stackoverflow.com/questions/62075033/read-pdf-from-url-to-memory-omitting-saving-file-to-local-file\n",
        "\n",
        "#extrae todo el texto, de un enlace a un pdf (dependiendo del contenido puede tardar entre 0.6 seg a 1 seg)\n",
        "def extract_pdf_by_url(url):\n",
        "    http = urllib3.PoolManager()\n",
        "    temp = io.BytesIO()\n",
        "    temp.write(http.request(\"GET\", url).data)\n",
        "    all_text = ''\n",
        "    with pdfplumber.open(temp) as pdf:\n",
        "        for pdf_page in pdf.pages:\n",
        "            single_page_text = pdf_page.extract_text()\n",
        "            all_text = all_text + '\\n' + single_page_text\n",
        "    return all_text"
      ],
      "metadata": {
        "id": "j25h-QhLRu3p"
      },
      "execution_count": 5,
      "outputs": []
    },
    {
      "cell_type": "code",
      "source": [
        "#dado un pdf filtra la sección desde \"objetivos\" hasta \"bibliografía\"\n",
        "\n",
        "#en caso de querer separarlos en más categorías guardar en sublistas\n",
        "def extraerInfo(pdfActual):\n",
        "  titulos = [\"OBJETIVOS\", \"CONTENIDOS MÍNIMOS\", \"PROGRAMA SINTÉTICO\", \"PROGRAMA ANALÍTICO\", \"BIBLIOGRAFÍA\"]\n",
        "\n",
        "  infoGuardada = []\n",
        "  guardar = False\n",
        "  for palabra in pdfActual.splitlines():    #https://stackoverflow.com/questions/24237524/how-to-split-a-python-string-on-new-line-characters\n",
        "    if(palabra == titulos[0]):\n",
        "      guardar = True\n",
        "    # else:\n",
        "    #   print(\"Error al inicio en:\", )\n",
        "    if(palabra == titulos[-1]):\n",
        "      guardar = False\n",
        "    if guardar:\n",
        "      infoGuardada.append(palabra)\n",
        "\n",
        "  # print(\"\\n\". join(infoGuardada))\n",
        "  return (\"\\n\". join(infoGuardada))"
      ],
      "metadata": {
        "id": "E49-n6ysDNaX"
      },
      "execution_count": 6,
      "outputs": []
    },
    {
      "cell_type": "code",
      "source": [
        "sample5 = textos#.head(5).copy()\n",
        "sample5"
      ],
      "metadata": {
        "colab": {
          "base_uri": "https://localhost:8080/",
          "height": 424
        },
        "id": "-ot9AmRbHw1j",
        "outputId": "a6f841e3-378c-461c-8665-c6d885a28db2"
      },
      "execution_count": 51,
      "outputs": [
        {
          "output_type": "execute_result",
          "data": {
            "text/html": [
              "\n",
              "  <div id=\"df-8eccf930-7f4d-4b04-8e48-53254de1e26a\">\n",
              "    <div class=\"colab-df-container\">\n",
              "      <div>\n",
              "<style scoped>\n",
              "    .dataframe tbody tr th:only-of-type {\n",
              "        vertical-align: middle;\n",
              "    }\n",
              "\n",
              "    .dataframe tbody tr th {\n",
              "        vertical-align: top;\n",
              "    }\n",
              "\n",
              "    .dataframe thead th {\n",
              "        text-align: right;\n",
              "    }\n",
              "</style>\n",
              "<table border=\"1\" class=\"dataframe\">\n",
              "  <thead>\n",
              "    <tr style=\"text-align: right;\">\n",
              "      <th></th>\n",
              "      <th>asignaturasDeptos</th>\n",
              "      <th>asignaturas</th>\n",
              "      <th>planificaciones</th>\n",
              "      <th>contenido</th>\n",
              "    </tr>\n",
              "  </thead>\n",
              "  <tbody>\n",
              "    <tr>\n",
              "      <th>0</th>\n",
              "      <td>https://www.fi.uba.ar/institucional/departamen...</td>\n",
              "      <td>70.00 Tesis</td>\n",
              "      <td>https://cms.fi.uba.ar/uploads/7000_f3e5b5598f.pdf</td>\n",
              "      <td>NaN</td>\n",
              "    </tr>\n",
              "    <tr>\n",
              "      <th>1</th>\n",
              "      <td>https://www.fi.uba.ar/institucional/departamen...</td>\n",
              "      <td>70.01 Geometría Proyectiva</td>\n",
              "      <td>https://cms.fi.uba.ar/uploads/7001_d6c8e9d00f.pdf</td>\n",
              "      <td>NaN</td>\n",
              "    </tr>\n",
              "    <tr>\n",
              "      <th>2</th>\n",
              "      <td>https://www.fi.uba.ar/institucional/departamen...</td>\n",
              "      <td>70.02 Geometría Descriptiva</td>\n",
              "      <td>https://cms.fi.uba.ar/uploads/7002_64d783b823.pdf</td>\n",
              "      <td>NaN</td>\n",
              "    </tr>\n",
              "    <tr>\n",
              "      <th>3</th>\n",
              "      <td>https://www.fi.uba.ar/institucional/departamen...</td>\n",
              "      <td>70.03 Medios de Representación A</td>\n",
              "      <td>https://cms.fi.uba.ar/uploads/7003_b7b9d87b24.pdf</td>\n",
              "      <td>NaN</td>\n",
              "    </tr>\n",
              "    <tr>\n",
              "      <th>4</th>\n",
              "      <td>https://www.fi.uba.ar/institucional/departamen...</td>\n",
              "      <td>70.04 Dibujo Topográfico</td>\n",
              "      <td>https://cms.fi.uba.ar/uploads/7004_334c8672cb.pdf</td>\n",
              "      <td>NaN</td>\n",
              "    </tr>\n",
              "    <tr>\n",
              "      <th>...</th>\n",
              "      <td>...</td>\n",
              "      <td>...</td>\n",
              "      <td>...</td>\n",
              "      <td>...</td>\n",
              "    </tr>\n",
              "    <tr>\n",
              "      <th>978</th>\n",
              "      <td>https://www.fi.uba.ar/institucional/departamen...</td>\n",
              "      <td>88.10 Caminos</td>\n",
              "      <td>https://cms.fi.uba.ar/uploads/8810_0e4dd94754.pdf</td>\n",
              "      <td>NaN</td>\n",
              "    </tr>\n",
              "    <tr>\n",
              "      <th>979</th>\n",
              "      <td>https://www.fi.uba.ar/institucional/departamen...</td>\n",
              "      <td>88.11 Aeropuertos A</td>\n",
              "      <td>https://cms.fi.uba.ar/uploads/8811_80899054e3.pdf</td>\n",
              "      <td>NaN</td>\n",
              "    </tr>\n",
              "    <tr>\n",
              "      <th>980</th>\n",
              "      <td>https://www.fi.uba.ar/institucional/departamen...</td>\n",
              "      <td>88.12 Ferrocarriles A</td>\n",
              "      <td>https://cms.fi.uba.ar/uploads/8812_a4155b47ac.pdf</td>\n",
              "      <td>NaN</td>\n",
              "    </tr>\n",
              "    <tr>\n",
              "      <th>981</th>\n",
              "      <td>https://www.fi.uba.ar/institucional/departamen...</td>\n",
              "      <td>88.13 Puertos y Vías Navegables A</td>\n",
              "      <td>https://cms.fi.uba.ar/uploads/8813_baf51c5493.pdf</td>\n",
              "      <td>NaN</td>\n",
              "    </tr>\n",
              "    <tr>\n",
              "      <th>982</th>\n",
              "      <td>https://www.fi.uba.ar/institucional/departamen...</td>\n",
              "      <td>88.14 Evaluación de Proyectos</td>\n",
              "      <td>https://cms.fi.uba.ar/uploads/8814_213fffa227.pdf</td>\n",
              "      <td>NaN</td>\n",
              "    </tr>\n",
              "  </tbody>\n",
              "</table>\n",
              "<p>954 rows × 4 columns</p>\n",
              "</div>\n",
              "      <button class=\"colab-df-convert\" onclick=\"convertToInteractive('df-8eccf930-7f4d-4b04-8e48-53254de1e26a')\"\n",
              "              title=\"Convert this dataframe to an interactive table.\"\n",
              "              style=\"display:none;\">\n",
              "        \n",
              "  <svg xmlns=\"http://www.w3.org/2000/svg\" height=\"24px\"viewBox=\"0 0 24 24\"\n",
              "       width=\"24px\">\n",
              "    <path d=\"M0 0h24v24H0V0z\" fill=\"none\"/>\n",
              "    <path d=\"M18.56 5.44l.94 2.06.94-2.06 2.06-.94-2.06-.94-.94-2.06-.94 2.06-2.06.94zm-11 1L8.5 8.5l.94-2.06 2.06-.94-2.06-.94L8.5 2.5l-.94 2.06-2.06.94zm10 10l.94 2.06.94-2.06 2.06-.94-2.06-.94-.94-2.06-.94 2.06-2.06.94z\"/><path d=\"M17.41 7.96l-1.37-1.37c-.4-.4-.92-.59-1.43-.59-.52 0-1.04.2-1.43.59L10.3 9.45l-7.72 7.72c-.78.78-.78 2.05 0 2.83L4 21.41c.39.39.9.59 1.41.59.51 0 1.02-.2 1.41-.59l7.78-7.78 2.81-2.81c.8-.78.8-2.07 0-2.86zM5.41 20L4 18.59l7.72-7.72 1.47 1.35L5.41 20z\"/>\n",
              "  </svg>\n",
              "      </button>\n",
              "      \n",
              "  <style>\n",
              "    .colab-df-container {\n",
              "      display:flex;\n",
              "      flex-wrap:wrap;\n",
              "      gap: 12px;\n",
              "    }\n",
              "\n",
              "    .colab-df-convert {\n",
              "      background-color: #E8F0FE;\n",
              "      border: none;\n",
              "      border-radius: 50%;\n",
              "      cursor: pointer;\n",
              "      display: none;\n",
              "      fill: #1967D2;\n",
              "      height: 32px;\n",
              "      padding: 0 0 0 0;\n",
              "      width: 32px;\n",
              "    }\n",
              "\n",
              "    .colab-df-convert:hover {\n",
              "      background-color: #E2EBFA;\n",
              "      box-shadow: 0px 1px 2px rgba(60, 64, 67, 0.3), 0px 1px 3px 1px rgba(60, 64, 67, 0.15);\n",
              "      fill: #174EA6;\n",
              "    }\n",
              "\n",
              "    [theme=dark] .colab-df-convert {\n",
              "      background-color: #3B4455;\n",
              "      fill: #D2E3FC;\n",
              "    }\n",
              "\n",
              "    [theme=dark] .colab-df-convert:hover {\n",
              "      background-color: #434B5C;\n",
              "      box-shadow: 0px 1px 3px 1px rgba(0, 0, 0, 0.15);\n",
              "      filter: drop-shadow(0px 1px 2px rgba(0, 0, 0, 0.3));\n",
              "      fill: #FFFFFF;\n",
              "    }\n",
              "  </style>\n",
              "\n",
              "      <script>\n",
              "        const buttonEl =\n",
              "          document.querySelector('#df-8eccf930-7f4d-4b04-8e48-53254de1e26a button.colab-df-convert');\n",
              "        buttonEl.style.display =\n",
              "          google.colab.kernel.accessAllowed ? 'block' : 'none';\n",
              "\n",
              "        async function convertToInteractive(key) {\n",
              "          const element = document.querySelector('#df-8eccf930-7f4d-4b04-8e48-53254de1e26a');\n",
              "          const dataTable =\n",
              "            await google.colab.kernel.invokeFunction('convertToInteractive',\n",
              "                                                     [key], {});\n",
              "          if (!dataTable) return;\n",
              "\n",
              "          const docLinkHtml = 'Like what you see? Visit the ' +\n",
              "            '<a target=\"_blank\" href=https://colab.research.google.com/notebooks/data_table.ipynb>data table notebook</a>'\n",
              "            + ' to learn more about interactive tables.';\n",
              "          element.innerHTML = '';\n",
              "          dataTable['output_type'] = 'display_data';\n",
              "          await google.colab.output.renderOutput(dataTable, element);\n",
              "          const docLink = document.createElement('div');\n",
              "          docLink.innerHTML = docLinkHtml;\n",
              "          element.appendChild(docLink);\n",
              "        }\n",
              "      </script>\n",
              "    </div>\n",
              "  </div>\n",
              "  "
            ],
            "text/plain": [
              "                                     asignaturasDeptos  ... contenido\n",
              "0    https://www.fi.uba.ar/institucional/departamen...  ...       NaN\n",
              "1    https://www.fi.uba.ar/institucional/departamen...  ...       NaN\n",
              "2    https://www.fi.uba.ar/institucional/departamen...  ...       NaN\n",
              "3    https://www.fi.uba.ar/institucional/departamen...  ...       NaN\n",
              "4    https://www.fi.uba.ar/institucional/departamen...  ...       NaN\n",
              "..                                                 ...  ...       ...\n",
              "978  https://www.fi.uba.ar/institucional/departamen...  ...       NaN\n",
              "979  https://www.fi.uba.ar/institucional/departamen...  ...       NaN\n",
              "980  https://www.fi.uba.ar/institucional/departamen...  ...       NaN\n",
              "981  https://www.fi.uba.ar/institucional/departamen...  ...       NaN\n",
              "982  https://www.fi.uba.ar/institucional/departamen...  ...       NaN\n",
              "\n",
              "[954 rows x 4 columns]"
            ]
          },
          "metadata": {},
          "execution_count": 51
        }
      ]
    },
    {
      "cell_type": "code",
      "source": [
        "pd.options.mode.chained_assignment = None\n",
        "sample5[\"contenido\"] = np.nan"
      ],
      "metadata": {
        "id": "kLk64MLuRs8f"
      },
      "execution_count": 52,
      "outputs": []
    },
    {
      "cell_type": "code",
      "source": [
        "sample5"
      ],
      "metadata": {
        "colab": {
          "base_uri": "https://localhost:8080/",
          "height": 424
        },
        "id": "E1M4BO1QRZIJ",
        "outputId": "3bd503c3-15f8-44a2-9690-21dfa5794d79"
      },
      "execution_count": 53,
      "outputs": [
        {
          "output_type": "execute_result",
          "data": {
            "text/html": [
              "\n",
              "  <div id=\"df-1b9b14c9-bc0b-47a8-b4a7-4ce0c96b277e\">\n",
              "    <div class=\"colab-df-container\">\n",
              "      <div>\n",
              "<style scoped>\n",
              "    .dataframe tbody tr th:only-of-type {\n",
              "        vertical-align: middle;\n",
              "    }\n",
              "\n",
              "    .dataframe tbody tr th {\n",
              "        vertical-align: top;\n",
              "    }\n",
              "\n",
              "    .dataframe thead th {\n",
              "        text-align: right;\n",
              "    }\n",
              "</style>\n",
              "<table border=\"1\" class=\"dataframe\">\n",
              "  <thead>\n",
              "    <tr style=\"text-align: right;\">\n",
              "      <th></th>\n",
              "      <th>asignaturasDeptos</th>\n",
              "      <th>asignaturas</th>\n",
              "      <th>planificaciones</th>\n",
              "      <th>contenido</th>\n",
              "    </tr>\n",
              "  </thead>\n",
              "  <tbody>\n",
              "    <tr>\n",
              "      <th>0</th>\n",
              "      <td>https://www.fi.uba.ar/institucional/departamen...</td>\n",
              "      <td>70.00 Tesis</td>\n",
              "      <td>https://cms.fi.uba.ar/uploads/7000_f3e5b5598f.pdf</td>\n",
              "      <td>NaN</td>\n",
              "    </tr>\n",
              "    <tr>\n",
              "      <th>1</th>\n",
              "      <td>https://www.fi.uba.ar/institucional/departamen...</td>\n",
              "      <td>70.01 Geometría Proyectiva</td>\n",
              "      <td>https://cms.fi.uba.ar/uploads/7001_d6c8e9d00f.pdf</td>\n",
              "      <td>NaN</td>\n",
              "    </tr>\n",
              "    <tr>\n",
              "      <th>2</th>\n",
              "      <td>https://www.fi.uba.ar/institucional/departamen...</td>\n",
              "      <td>70.02 Geometría Descriptiva</td>\n",
              "      <td>https://cms.fi.uba.ar/uploads/7002_64d783b823.pdf</td>\n",
              "      <td>NaN</td>\n",
              "    </tr>\n",
              "    <tr>\n",
              "      <th>3</th>\n",
              "      <td>https://www.fi.uba.ar/institucional/departamen...</td>\n",
              "      <td>70.03 Medios de Representación A</td>\n",
              "      <td>https://cms.fi.uba.ar/uploads/7003_b7b9d87b24.pdf</td>\n",
              "      <td>NaN</td>\n",
              "    </tr>\n",
              "    <tr>\n",
              "      <th>4</th>\n",
              "      <td>https://www.fi.uba.ar/institucional/departamen...</td>\n",
              "      <td>70.04 Dibujo Topográfico</td>\n",
              "      <td>https://cms.fi.uba.ar/uploads/7004_334c8672cb.pdf</td>\n",
              "      <td>NaN</td>\n",
              "    </tr>\n",
              "    <tr>\n",
              "      <th>...</th>\n",
              "      <td>...</td>\n",
              "      <td>...</td>\n",
              "      <td>...</td>\n",
              "      <td>...</td>\n",
              "    </tr>\n",
              "    <tr>\n",
              "      <th>978</th>\n",
              "      <td>https://www.fi.uba.ar/institucional/departamen...</td>\n",
              "      <td>88.10 Caminos</td>\n",
              "      <td>https://cms.fi.uba.ar/uploads/8810_0e4dd94754.pdf</td>\n",
              "      <td>NaN</td>\n",
              "    </tr>\n",
              "    <tr>\n",
              "      <th>979</th>\n",
              "      <td>https://www.fi.uba.ar/institucional/departamen...</td>\n",
              "      <td>88.11 Aeropuertos A</td>\n",
              "      <td>https://cms.fi.uba.ar/uploads/8811_80899054e3.pdf</td>\n",
              "      <td>NaN</td>\n",
              "    </tr>\n",
              "    <tr>\n",
              "      <th>980</th>\n",
              "      <td>https://www.fi.uba.ar/institucional/departamen...</td>\n",
              "      <td>88.12 Ferrocarriles A</td>\n",
              "      <td>https://cms.fi.uba.ar/uploads/8812_a4155b47ac.pdf</td>\n",
              "      <td>NaN</td>\n",
              "    </tr>\n",
              "    <tr>\n",
              "      <th>981</th>\n",
              "      <td>https://www.fi.uba.ar/institucional/departamen...</td>\n",
              "      <td>88.13 Puertos y Vías Navegables A</td>\n",
              "      <td>https://cms.fi.uba.ar/uploads/8813_baf51c5493.pdf</td>\n",
              "      <td>NaN</td>\n",
              "    </tr>\n",
              "    <tr>\n",
              "      <th>982</th>\n",
              "      <td>https://www.fi.uba.ar/institucional/departamen...</td>\n",
              "      <td>88.14 Evaluación de Proyectos</td>\n",
              "      <td>https://cms.fi.uba.ar/uploads/8814_213fffa227.pdf</td>\n",
              "      <td>NaN</td>\n",
              "    </tr>\n",
              "  </tbody>\n",
              "</table>\n",
              "<p>954 rows × 4 columns</p>\n",
              "</div>\n",
              "      <button class=\"colab-df-convert\" onclick=\"convertToInteractive('df-1b9b14c9-bc0b-47a8-b4a7-4ce0c96b277e')\"\n",
              "              title=\"Convert this dataframe to an interactive table.\"\n",
              "              style=\"display:none;\">\n",
              "        \n",
              "  <svg xmlns=\"http://www.w3.org/2000/svg\" height=\"24px\"viewBox=\"0 0 24 24\"\n",
              "       width=\"24px\">\n",
              "    <path d=\"M0 0h24v24H0V0z\" fill=\"none\"/>\n",
              "    <path d=\"M18.56 5.44l.94 2.06.94-2.06 2.06-.94-2.06-.94-.94-2.06-.94 2.06-2.06.94zm-11 1L8.5 8.5l.94-2.06 2.06-.94-2.06-.94L8.5 2.5l-.94 2.06-2.06.94zm10 10l.94 2.06.94-2.06 2.06-.94-2.06-.94-.94-2.06-.94 2.06-2.06.94z\"/><path d=\"M17.41 7.96l-1.37-1.37c-.4-.4-.92-.59-1.43-.59-.52 0-1.04.2-1.43.59L10.3 9.45l-7.72 7.72c-.78.78-.78 2.05 0 2.83L4 21.41c.39.39.9.59 1.41.59.51 0 1.02-.2 1.41-.59l7.78-7.78 2.81-2.81c.8-.78.8-2.07 0-2.86zM5.41 20L4 18.59l7.72-7.72 1.47 1.35L5.41 20z\"/>\n",
              "  </svg>\n",
              "      </button>\n",
              "      \n",
              "  <style>\n",
              "    .colab-df-container {\n",
              "      display:flex;\n",
              "      flex-wrap:wrap;\n",
              "      gap: 12px;\n",
              "    }\n",
              "\n",
              "    .colab-df-convert {\n",
              "      background-color: #E8F0FE;\n",
              "      border: none;\n",
              "      border-radius: 50%;\n",
              "      cursor: pointer;\n",
              "      display: none;\n",
              "      fill: #1967D2;\n",
              "      height: 32px;\n",
              "      padding: 0 0 0 0;\n",
              "      width: 32px;\n",
              "    }\n",
              "\n",
              "    .colab-df-convert:hover {\n",
              "      background-color: #E2EBFA;\n",
              "      box-shadow: 0px 1px 2px rgba(60, 64, 67, 0.3), 0px 1px 3px 1px rgba(60, 64, 67, 0.15);\n",
              "      fill: #174EA6;\n",
              "    }\n",
              "\n",
              "    [theme=dark] .colab-df-convert {\n",
              "      background-color: #3B4455;\n",
              "      fill: #D2E3FC;\n",
              "    }\n",
              "\n",
              "    [theme=dark] .colab-df-convert:hover {\n",
              "      background-color: #434B5C;\n",
              "      box-shadow: 0px 1px 3px 1px rgba(0, 0, 0, 0.15);\n",
              "      filter: drop-shadow(0px 1px 2px rgba(0, 0, 0, 0.3));\n",
              "      fill: #FFFFFF;\n",
              "    }\n",
              "  </style>\n",
              "\n",
              "      <script>\n",
              "        const buttonEl =\n",
              "          document.querySelector('#df-1b9b14c9-bc0b-47a8-b4a7-4ce0c96b277e button.colab-df-convert');\n",
              "        buttonEl.style.display =\n",
              "          google.colab.kernel.accessAllowed ? 'block' : 'none';\n",
              "\n",
              "        async function convertToInteractive(key) {\n",
              "          const element = document.querySelector('#df-1b9b14c9-bc0b-47a8-b4a7-4ce0c96b277e');\n",
              "          const dataTable =\n",
              "            await google.colab.kernel.invokeFunction('convertToInteractive',\n",
              "                                                     [key], {});\n",
              "          if (!dataTable) return;\n",
              "\n",
              "          const docLinkHtml = 'Like what you see? Visit the ' +\n",
              "            '<a target=\"_blank\" href=https://colab.research.google.com/notebooks/data_table.ipynb>data table notebook</a>'\n",
              "            + ' to learn more about interactive tables.';\n",
              "          element.innerHTML = '';\n",
              "          dataTable['output_type'] = 'display_data';\n",
              "          await google.colab.output.renderOutput(dataTable, element);\n",
              "          const docLink = document.createElement('div');\n",
              "          docLink.innerHTML = docLinkHtml;\n",
              "          element.appendChild(docLink);\n",
              "        }\n",
              "      </script>\n",
              "    </div>\n",
              "  </div>\n",
              "  "
            ],
            "text/plain": [
              "                                     asignaturasDeptos  ... contenido\n",
              "0    https://www.fi.uba.ar/institucional/departamen...  ...       NaN\n",
              "1    https://www.fi.uba.ar/institucional/departamen...  ...       NaN\n",
              "2    https://www.fi.uba.ar/institucional/departamen...  ...       NaN\n",
              "3    https://www.fi.uba.ar/institucional/departamen...  ...       NaN\n",
              "4    https://www.fi.uba.ar/institucional/departamen...  ...       NaN\n",
              "..                                                 ...  ...       ...\n",
              "978  https://www.fi.uba.ar/institucional/departamen...  ...       NaN\n",
              "979  https://www.fi.uba.ar/institucional/departamen...  ...       NaN\n",
              "980  https://www.fi.uba.ar/institucional/departamen...  ...       NaN\n",
              "981  https://www.fi.uba.ar/institucional/departamen...  ...       NaN\n",
              "982  https://www.fi.uba.ar/institucional/departamen...  ...       NaN\n",
              "\n",
              "[954 rows x 4 columns]"
            ]
          },
          "metadata": {},
          "execution_count": 53
        }
      ]
    },
    {
      "cell_type": "code",
      "source": [
        "#añade a cada columna la información extraida anteriormente\n",
        "total = sample5.shape[0]\n",
        "for i, link in enumerate(sample5[\"planificaciones\"]):     #enumerate devuelve el indice (un nro.) y lo que se itera\n",
        "  pdfActual = extract_pdf_by_url(link)\n",
        "  sample5.iloc[i, 3] = extraerInfo(pdfActual)\n",
        "  print(i+1,\"/\",total)"
      ],
      "metadata": {
        "colab": {
          "base_uri": "https://localhost:8080/"
        },
        "id": "J-n61oUsHVWq",
        "outputId": "68c6acd8-462b-4cc3-cf51-60ac7407f53b"
      },
      "execution_count": 54,
      "outputs": [
        {
          "output_type": "stream",
          "name": "stdout",
          "text": [
            "931 / 954\n",
            "932 / 954\n",
            "933 / 954\n",
            "934 / 954\n",
            "935 / 954\n",
            "936 / 954\n",
            "937 / 954\n",
            "938 / 954\n",
            "939 / 954\n",
            "940 / 954\n",
            "941 / 954\n",
            "942 / 954\n",
            "943 / 954\n",
            "944 / 954\n",
            "945 / 954\n",
            "946 / 954\n",
            "947 / 954\n",
            "948 / 954\n",
            "949 / 954\n",
            "950 / 954\n",
            "951 / 954\n",
            "952 / 954\n",
            "953 / 954\n",
            "954 / 954\n"
          ]
        }
      ]
    },
    {
      "cell_type": "code",
      "source": [
        "sample5"
      ],
      "metadata": {
        "colab": {
          "base_uri": "https://localhost:8080/",
          "height": 572
        },
        "id": "URtlEMPkSBio",
        "outputId": "2a9c7983-0da4-420f-da7a-e2c6783ec8a3"
      },
      "execution_count": 56,
      "outputs": [
        {
          "output_type": "execute_result",
          "data": {
            "text/html": [
              "\n",
              "  <div id=\"df-bdcca281-c88e-42ff-9595-e03fca8c78d8\">\n",
              "    <div class=\"colab-df-container\">\n",
              "      <div>\n",
              "<style scoped>\n",
              "    .dataframe tbody tr th:only-of-type {\n",
              "        vertical-align: middle;\n",
              "    }\n",
              "\n",
              "    .dataframe tbody tr th {\n",
              "        vertical-align: top;\n",
              "    }\n",
              "\n",
              "    .dataframe thead th {\n",
              "        text-align: right;\n",
              "    }\n",
              "</style>\n",
              "<table border=\"1\" class=\"dataframe\">\n",
              "  <thead>\n",
              "    <tr style=\"text-align: right;\">\n",
              "      <th></th>\n",
              "      <th>asignaturasDeptos</th>\n",
              "      <th>asignaturas</th>\n",
              "      <th>planificaciones</th>\n",
              "      <th>contenido</th>\n",
              "    </tr>\n",
              "  </thead>\n",
              "  <tbody>\n",
              "    <tr>\n",
              "      <th>0</th>\n",
              "      <td>https://www.fi.uba.ar/institucional/departamen...</td>\n",
              "      <td>70.00 Tesis</td>\n",
              "      <td>https://cms.fi.uba.ar/uploads/7000_f3e5b5598f.pdf</td>\n",
              "      <td>OBJETIVOS\\nCONTENIDOS MÍNIMOS\\n-\\nPROGRAMA SIN...</td>\n",
              "    </tr>\n",
              "    <tr>\n",
              "      <th>1</th>\n",
              "      <td>https://www.fi.uba.ar/institucional/departamen...</td>\n",
              "      <td>70.01 Geometría Proyectiva</td>\n",
              "      <td>https://cms.fi.uba.ar/uploads/7001_d6c8e9d00f.pdf</td>\n",
              "      <td>OBJETIVOS\\nCONTENIDOS MÍNIMOS\\n-\\nPROGRAMA SIN...</td>\n",
              "    </tr>\n",
              "    <tr>\n",
              "      <th>2</th>\n",
              "      <td>https://www.fi.uba.ar/institucional/departamen...</td>\n",
              "      <td>70.02 Geometría Descriptiva</td>\n",
              "      <td>https://cms.fi.uba.ar/uploads/7002_64d783b823.pdf</td>\n",
              "      <td>OBJETIVOS\\nRepresentar sobre un plano formas t...</td>\n",
              "    </tr>\n",
              "    <tr>\n",
              "      <th>3</th>\n",
              "      <td>https://www.fi.uba.ar/institucional/departamen...</td>\n",
              "      <td>70.03 Medios de Representación A</td>\n",
              "      <td>https://cms.fi.uba.ar/uploads/7003_b7b9d87b24.pdf</td>\n",
              "      <td>OBJETIVOS\\n1-GENERALES(cid:13)\\n(cid:13)\\n1.1-...</td>\n",
              "    </tr>\n",
              "    <tr>\n",
              "      <th>4</th>\n",
              "      <td>https://www.fi.uba.ar/institucional/departamen...</td>\n",
              "      <td>70.04 Dibujo Topográfico</td>\n",
              "      <td>https://cms.fi.uba.ar/uploads/7004_334c8672cb.pdf</td>\n",
              "      <td>OBJETIVOS\\nIntroducir al alumno en las técnica...</td>\n",
              "    </tr>\n",
              "    <tr>\n",
              "      <th>...</th>\n",
              "      <td>...</td>\n",
              "      <td>...</td>\n",
              "      <td>...</td>\n",
              "      <td>...</td>\n",
              "    </tr>\n",
              "    <tr>\n",
              "      <th>978</th>\n",
              "      <td>https://www.fi.uba.ar/institucional/departamen...</td>\n",
              "      <td>88.10 Caminos</td>\n",
              "      <td>https://cms.fi.uba.ar/uploads/8810_0e4dd94754.pdf</td>\n",
              "      <td>OBJETIVOS\\nLa asignatura se centra en el trans...</td>\n",
              "    </tr>\n",
              "    <tr>\n",
              "      <th>979</th>\n",
              "      <td>https://www.fi.uba.ar/institucional/departamen...</td>\n",
              "      <td>88.11 Aeropuertos A</td>\n",
              "      <td>https://cms.fi.uba.ar/uploads/8811_80899054e3.pdf</td>\n",
              "      <td>OBJETIVOS\\nIntroducir al estudiante de grado e...</td>\n",
              "    </tr>\n",
              "    <tr>\n",
              "      <th>980</th>\n",
              "      <td>https://www.fi.uba.ar/institucional/departamen...</td>\n",
              "      <td>88.12 Ferrocarriles A</td>\n",
              "      <td>https://cms.fi.uba.ar/uploads/8812_a4155b47ac.pdf</td>\n",
              "      <td>OBJETIVOS\\nEl objetivo primordial es el de pro...</td>\n",
              "    </tr>\n",
              "    <tr>\n",
              "      <th>981</th>\n",
              "      <td>https://www.fi.uba.ar/institucional/departamen...</td>\n",
              "      <td>88.13 Puertos y Vías Navegables A</td>\n",
              "      <td>https://cms.fi.uba.ar/uploads/8813_baf51c5493.pdf</td>\n",
              "      <td>OBJETIVOS\\nProporcionar a los alumnos un conoc...</td>\n",
              "    </tr>\n",
              "    <tr>\n",
              "      <th>982</th>\n",
              "      <td>https://www.fi.uba.ar/institucional/departamen...</td>\n",
              "      <td>88.14 Evaluación de Proyectos</td>\n",
              "      <td>https://cms.fi.uba.ar/uploads/8814_213fffa227.pdf</td>\n",
              "      <td>OBJETIVOS\\nEl curso tiene como objetivo princi...</td>\n",
              "    </tr>\n",
              "  </tbody>\n",
              "</table>\n",
              "<p>954 rows × 4 columns</p>\n",
              "</div>\n",
              "      <button class=\"colab-df-convert\" onclick=\"convertToInteractive('df-bdcca281-c88e-42ff-9595-e03fca8c78d8')\"\n",
              "              title=\"Convert this dataframe to an interactive table.\"\n",
              "              style=\"display:none;\">\n",
              "        \n",
              "  <svg xmlns=\"http://www.w3.org/2000/svg\" height=\"24px\"viewBox=\"0 0 24 24\"\n",
              "       width=\"24px\">\n",
              "    <path d=\"M0 0h24v24H0V0z\" fill=\"none\"/>\n",
              "    <path d=\"M18.56 5.44l.94 2.06.94-2.06 2.06-.94-2.06-.94-.94-2.06-.94 2.06-2.06.94zm-11 1L8.5 8.5l.94-2.06 2.06-.94-2.06-.94L8.5 2.5l-.94 2.06-2.06.94zm10 10l.94 2.06.94-2.06 2.06-.94-2.06-.94-.94-2.06-.94 2.06-2.06.94z\"/><path d=\"M17.41 7.96l-1.37-1.37c-.4-.4-.92-.59-1.43-.59-.52 0-1.04.2-1.43.59L10.3 9.45l-7.72 7.72c-.78.78-.78 2.05 0 2.83L4 21.41c.39.39.9.59 1.41.59.51 0 1.02-.2 1.41-.59l7.78-7.78 2.81-2.81c.8-.78.8-2.07 0-2.86zM5.41 20L4 18.59l7.72-7.72 1.47 1.35L5.41 20z\"/>\n",
              "  </svg>\n",
              "      </button>\n",
              "      \n",
              "  <style>\n",
              "    .colab-df-container {\n",
              "      display:flex;\n",
              "      flex-wrap:wrap;\n",
              "      gap: 12px;\n",
              "    }\n",
              "\n",
              "    .colab-df-convert {\n",
              "      background-color: #E8F0FE;\n",
              "      border: none;\n",
              "      border-radius: 50%;\n",
              "      cursor: pointer;\n",
              "      display: none;\n",
              "      fill: #1967D2;\n",
              "      height: 32px;\n",
              "      padding: 0 0 0 0;\n",
              "      width: 32px;\n",
              "    }\n",
              "\n",
              "    .colab-df-convert:hover {\n",
              "      background-color: #E2EBFA;\n",
              "      box-shadow: 0px 1px 2px rgba(60, 64, 67, 0.3), 0px 1px 3px 1px rgba(60, 64, 67, 0.15);\n",
              "      fill: #174EA6;\n",
              "    }\n",
              "\n",
              "    [theme=dark] .colab-df-convert {\n",
              "      background-color: #3B4455;\n",
              "      fill: #D2E3FC;\n",
              "    }\n",
              "\n",
              "    [theme=dark] .colab-df-convert:hover {\n",
              "      background-color: #434B5C;\n",
              "      box-shadow: 0px 1px 3px 1px rgba(0, 0, 0, 0.15);\n",
              "      filter: drop-shadow(0px 1px 2px rgba(0, 0, 0, 0.3));\n",
              "      fill: #FFFFFF;\n",
              "    }\n",
              "  </style>\n",
              "\n",
              "      <script>\n",
              "        const buttonEl =\n",
              "          document.querySelector('#df-bdcca281-c88e-42ff-9595-e03fca8c78d8 button.colab-df-convert');\n",
              "        buttonEl.style.display =\n",
              "          google.colab.kernel.accessAllowed ? 'block' : 'none';\n",
              "\n",
              "        async function convertToInteractive(key) {\n",
              "          const element = document.querySelector('#df-bdcca281-c88e-42ff-9595-e03fca8c78d8');\n",
              "          const dataTable =\n",
              "            await google.colab.kernel.invokeFunction('convertToInteractive',\n",
              "                                                     [key], {});\n",
              "          if (!dataTable) return;\n",
              "\n",
              "          const docLinkHtml = 'Like what you see? Visit the ' +\n",
              "            '<a target=\"_blank\" href=https://colab.research.google.com/notebooks/data_table.ipynb>data table notebook</a>'\n",
              "            + ' to learn more about interactive tables.';\n",
              "          element.innerHTML = '';\n",
              "          dataTable['output_type'] = 'display_data';\n",
              "          await google.colab.output.renderOutput(dataTable, element);\n",
              "          const docLink = document.createElement('div');\n",
              "          docLink.innerHTML = docLinkHtml;\n",
              "          element.appendChild(docLink);\n",
              "        }\n",
              "      </script>\n",
              "    </div>\n",
              "  </div>\n",
              "  "
            ],
            "text/plain": [
              "                                     asignaturasDeptos  ...                                          contenido\n",
              "0    https://www.fi.uba.ar/institucional/departamen...  ...  OBJETIVOS\\nCONTENIDOS MÍNIMOS\\n-\\nPROGRAMA SIN...\n",
              "1    https://www.fi.uba.ar/institucional/departamen...  ...  OBJETIVOS\\nCONTENIDOS MÍNIMOS\\n-\\nPROGRAMA SIN...\n",
              "2    https://www.fi.uba.ar/institucional/departamen...  ...  OBJETIVOS\\nRepresentar sobre un plano formas t...\n",
              "3    https://www.fi.uba.ar/institucional/departamen...  ...  OBJETIVOS\\n1-GENERALES(cid:13)\\n(cid:13)\\n1.1-...\n",
              "4    https://www.fi.uba.ar/institucional/departamen...  ...  OBJETIVOS\\nIntroducir al alumno en las técnica...\n",
              "..                                                 ...  ...                                                ...\n",
              "978  https://www.fi.uba.ar/institucional/departamen...  ...  OBJETIVOS\\nLa asignatura se centra en el trans...\n",
              "979  https://www.fi.uba.ar/institucional/departamen...  ...  OBJETIVOS\\nIntroducir al estudiante de grado e...\n",
              "980  https://www.fi.uba.ar/institucional/departamen...  ...  OBJETIVOS\\nEl objetivo primordial es el de pro...\n",
              "981  https://www.fi.uba.ar/institucional/departamen...  ...  OBJETIVOS\\nProporcionar a los alumnos un conoc...\n",
              "982  https://www.fi.uba.ar/institucional/departamen...  ...  OBJETIVOS\\nEl curso tiene como objetivo princi...\n",
              "\n",
              "[954 rows x 4 columns]"
            ]
          },
          "metadata": {},
          "execution_count": 56
        }
      ]
    },
    {
      "cell_type": "code",
      "source": [
        "markdownFile = []\n",
        "\n",
        "for i in range(sample5.shape[0]):\n",
        "  markdownFile.append(\"### \"+sample5.iloc[i, 1])  #nombre materia\n",
        "  markdownFile.append(\"\\n\\n[link al pdf](\"+sample5.iloc[i, 2]+\")\\n\\n\\n\")      #link al pdf\n",
        "  markdownFile.append(sample5.iloc[i, 3])   #planificacion materia\n",
        "  markdownFile.append(\"\\n\\n\")"
      ],
      "metadata": {
        "id": "UdHvZZW0SCkn"
      },
      "execution_count": 57,
      "outputs": []
    },
    {
      "cell_type": "code",
      "source": [
        "plainMarkdown = \"\".join(markdownFile)\n",
        "plainMarkdown = plainMarkdown.replace(\"(cid:13\", \"\")\n",
        "plainMarkdown = plainMarkdown.replace(\"(cid:9\", \"\")\n",
        "#expresion regular     \\(cid:[0-9]{1,}\\)"
      ],
      "metadata": {
        "id": "I7MyHln1WJoG"
      },
      "execution_count": 58,
      "outputs": []
    },
    {
      "cell_type": "code",
      "source": [
        "print(plainMarkdown)"
      ],
      "metadata": {
        "colab": {
          "base_uri": "https://localhost:8080/"
        },
        "id": "HxFUakf0ZLil",
        "outputId": "0617d2b0-7f84-4c5c-cbfb-095e91cabafa"
      },
      "execution_count": 59,
      "outputs": [
        {
          "output_type": "stream",
          "name": "stderr",
          "text": [
            "IOPub data rate exceeded.\n",
            "The notebook server will temporarily stop sending output\n",
            "to the client in order to avoid crashing it.\n",
            "To change this limit, set the config variable\n",
            "`--NotebookApp.iopub_data_rate_limit`.\n",
            "\n",
            "Current values:\n",
            "NotebookApp.iopub_data_rate_limit=1000000.0 (bytes/sec)\n",
            "NotebookApp.rate_limit_window=3.0 (secs)\n",
            "\n"
          ]
        }
      ]
    },
    {
      "cell_type": "code",
      "source": [
        "with open(\"contenidos.md\", \"w\") as text_file:\n",
        "    text_file.write(plainMarkdown)\n",
        "\n",
        "#luego de escribirlo buscar   \\n-\\n   y reemplazar por \\n    en notepad++   para que el formato markdown no flashee\n",
        "#reemplazar \\n por \\n\\n\n",
        "#reemplazar \"[0-9] de [0-9]\" por nada (con expresiones regulares)"
      ],
      "metadata": {
        "id": "nPmOExlSX7rx"
      },
      "execution_count": 60,
      "outputs": []
    },
    {
      "cell_type": "markdown",
      "source": [
        "el formato no es modificable (solo desde notapad++, cambiarlo a html no hace mucha diferencia) sin embargo **es un proyecto sencillo**\n",
        "\n",
        "A hacer\n",
        "* terminar de parsear todos los pdfs, quitar aquellos que no cumplen con el formato, en todo caso dejarlos en un df aparte e ir abriendolos para ver en que se diferencian\n",
        "* https://dillinger.io/ para testear markdown de github\n"
      ],
      "metadata": {
        "id": "Uk1h-OiddExa"
      }
    },
    {
      "cell_type": "markdown",
      "source": [
        "#####tests"
      ],
      "metadata": {
        "id": "dYjYlx_GRF3N"
      }
    },
    {
      "cell_type": "code",
      "source": [
        "pdfs = [\"https://cms.fi.uba.ar/uploads/7000_f3e5b5598f.pdf\",\"https://cms.fi.uba.ar/uploads/7001_d6c8e9d00f.pdf\",\"https://cms.fi.uba.ar/uploads/7002_64d783b823.pdf\",\"https://cms.fi.uba.ar/uploads/7003_b7b9d87b24.pdf\",\"https://cms.fi.uba.ar/uploads/7004_334c8672cb.pdf\",\"https://cms.fi.uba.ar/uploads/8810_0e4dd94754.pdf\",\"https://cms.fi.uba.ar/uploads/8811_80899054e3.pdf\",\"https://cms.fi.uba.ar/uploads/8812_a4155b47ac.pdf\",\"https://cms.fi.uba.ar/uploads/8813_baf51c5493.pdf\",\"https://cms.fi.uba.ar/uploads/8814_213fffa227.pdf\"]"
      ],
      "metadata": {
        "id": "T_Y1jOlLRFek"
      },
      "execution_count": 16,
      "outputs": []
    },
    {
      "cell_type": "code",
      "source": [
        "sample5.iloc[0, 1]"
      ],
      "metadata": {
        "colab": {
          "base_uri": "https://localhost:8080/",
          "height": 35
        },
        "id": "PIvyX30PT3Ph",
        "outputId": "4521ec91-62c2-4e61-9495-c5b045eee3c8"
      },
      "execution_count": 17,
      "outputs": [
        {
          "output_type": "execute_result",
          "data": {
            "application/vnd.google.colaboratory.intrinsic+json": {
              "type": "string"
            },
            "text/plain": [
              "'70.00 Tesis'"
            ]
          },
          "metadata": {},
          "execution_count": 17
        }
      ]
    },
    {
      "cell_type": "markdown",
      "source": [
        "###Tika\n"
      ],
      "metadata": {
        "id": "6Oc9HaIYSa1i"
      }
    },
    {
      "cell_type": "code",
      "source": [
        "!pip install tika"
      ],
      "metadata": {
        "id": "doX33woJoKoY"
      },
      "execution_count": null,
      "outputs": []
    },
    {
      "cell_type": "code",
      "source": [
        "from tika import parser\n",
        "\n",
        "http = urllib3.PoolManager()\n",
        "temp = io.BytesIO()\n",
        "temp.write(http.request(\"GET\", url).data)\n",
        "\n",
        "rawText = parser.from_file(temp)\n",
        "\n",
        "rawList = rawText['content'].splitlines()\n"
      ],
      "metadata": {
        "id": "I6VQVLz6qpZC"
      },
      "execution_count": null,
      "outputs": []
    },
    {
      "cell_type": "markdown",
      "source": [
        "###PyPDF2\n"
      ],
      "metadata": {
        "id": "WtMPbFMwqEhN"
      }
    },
    {
      "cell_type": "code",
      "source": [
        "!pip install PyPDF2"
      ],
      "metadata": {
        "id": "fOpIOnlnqKK8"
      },
      "execution_count": null,
      "outputs": []
    },
    {
      "cell_type": "code",
      "source": [
        "import requests, PyPDF2\n",
        "from io import BytesIO\n",
        "\n",
        "url = 'https://cms.fi.uba.ar/uploads/7008_004dc77220.pdf'\n",
        "response = requests.get(url)\n",
        "my_raw_data = response.content\n",
        "\n",
        "with BytesIO(my_raw_data) as data:\n",
        "    read_pdf = PyPDF2.PdfFileReader(data)\n",
        "\n",
        "    for page in range(read_pdf.getNumPages()):\n",
        "        print(read_pdf.getPage(page).extractText())\n"
      ],
      "metadata": {
        "colab": {
          "base_uri": "https://localhost:8080/"
        },
        "id": "4DtnOef5qGBr",
        "outputId": "0726f6c7-80ab-4068-fc79-ac071642b482"
      },
      "execution_count": 22,
      "outputs": [
        {
          "output_type": "stream",
          "name": "stdout",
          "text": [
            "Planificaciones7008 - Topografía IDocente responsable: PRADELLI ALBERTO1 de 57008 - Topografía IPLANIFICACIONESActualización: 1ºC/2016\n",
            "OBJETIVOS1- Integrar conocimientos básicos de matemática, física, geometría y dibujo para su aplicación a un findeterminado. 2 - Introducir al alumno en el uso del instrumental y el conocimiento de las técnicas de medición ycálculo necesarias para realizar específicas de relevamiento planialtimétrico de hechos existentes, confecciónde planos topográficos y replanteo de obras.CONTENIDOS MÍNIMOS-PROGRAMA SINTÉTICO-Introducción. -Plano topográfico. Escalas. -Sistemas de Medición Regular. - Teoría de los errores. -Día nolaborable. -Teoría de los errores. -Errores, criterios de Gauss. -Errores, criterios de Chauvenet. -Video,Proyección. -Medición de ángulos con Teodolito. -Teodolito, El Anteojo, Sistemas de Graduación. -Medición deángulos verticales. -Medición directa de distancias. -Medición estadística de distancias. -Medición parláctica.Medición electrónica.Estación Total.PROGRAMA ANALÍTICOa) TOPOGRAFÍA Y GEODESIA: Finalidades y caracteres diferenciales de estas ramas de la ingeniería . Formade la Tierra. Geoide. Elipsoide. Esfera. Plano. Plano Topográfico. Escala. Error gráfico. Tolerancia. Conceptobásico de levantamiento topográfico clásico. Proyección acotada. Influencia de la    curvatura terrestre en ladeterminación de distancia y de desniveles. Unidades de medidas lineales    y superficiales. Unidadesangulares. Sistema sexagesimal, centesimal y natural. Aplicaciones del sistema natural a las medicionesb) ERRORES DE MEDICIÓN: Imposibilidad de efectuar mediciones exactas. Errores de medición. Su clasificación: sistemáticos y accidentales; verdaderos y aparentes: absolutos y relativos. Propagación de erroresaccidentales, ecuación fundamental. Promedio de una serie de observaciones. Media de los errores. Errormedio cuadrático. Error del promedio. Precisión y exactitud. Probabilidad e los errores. Curva de Gauss.Integral de la misma. Error equiprobable. Error máximo. Eliminación de observaciones afectadas de error    MEDICIÓN ANGULAR: Goniómetros. El teodolito, descripción. Anteojo topográfico, función del mismo. Aumentonominal y aumento útil. Ejes de colimación, secundario y principal. Condiciones que    deben cumplir. Procesodel enfoque y bisección de un punto. Calaje del teodolito; nivel de burbuja,    sensibilidad. Principio fundamentaldel nivel de burbuja. Órganos de lectura de los limbos acimutal     y vertical del teodolito. Errores sistemáticosde excentricidad y de graduación de los limbos. Influencia de los errores sistemáticos de colimación, deinclinación del eje secundario y de la falta de     verticalidad del eje principal en la medición de direccionesacimutales. Método de Bessel. Errores accidentales de bisección y de lectura. Medición de ángulos horizontalesmediante procedimientos    de Reiteración y de Repetición. Errores respectivos. medición de ángulos verticales.Eclímetros.   Error de índice. Nivel testigo, función del mismo e influencia de su sensibilidad. Índice vertical    MEDICIÓN DIRECTA DE LONGITUDES: Instrumentos utilizados con este fin. Procedimientos expeditivos yde precisión. Cinta de Agrimensor. Fichas. jalones. Alineamientos. Levantamiento de detalles medianteabscisas y ordenadas. Escuadras de prismas. Pentaprismas dobles. Errores sistemáticos (contraste,alineación, desniveles, catenaria, tracción, temperatura) y accidentales en la   medición con cinta. Su propagación.    MEDICIÓN INDIRECTA DE LONGITUDES: Conceptos Básicos Estadímetros  con trazos reticulares.   Principio de Reichenbach. Analatismo. Determinación de las constantes. Estadímetros con prisma  (o de doble2 de 57008 - Topografía IPLANIFICACIONESActualización: 1ºC/2016\n",
            "imagen). Análisis y comparación de los errores inherentes a ambos tipos de estadímetros.  Taquimetría. Taquímetros auto-reductores: a) con mira vertical, de diagrama y retículo móvil; b) con mira horizontal. Mediciónparaláctica simple, en serie y por sucesivas ampliaciones. Propagación de errores en cada caso. Equipos decentración forzosa. Aplicaciones. Planificación de    mediciones indirectas de longitudes en función de precisionespreestablecidas. Medición electrónica de distancias. Estación TotalBIBLIOGRAFÍA\"Tratado General de Topografía\", W. Jordan, Edit. Gili (España). \"Topografía General y Aplicada\", F.Domínguez García Tejero, edit. Salvat. \"Compendio General de Topografía\", R. Müller, Edit. El Ateneo. \"Cours deTopometrie Genérale\", Durbec, Edit. Eyrolles (Francia).RÉGIMEN DE CURSADAMetodología de enseñanzaTeoría Obligatoria y Trabajos Prácticos ObligatoriosModalidad de Evaluación ParcialUna  evaluación escrita con uso de instrumental topográfico, y dos oportunidades adicionales para recuperar el parcial.3 de 57008 - Topografía IPLANIFICACIONESActualización: 1ºC/2016\n",
            "CALENDARIO DE CLASESSemanaTemas deteoríaResoluciónde problemasLaboratorioOtro tipoFecha entregaInforme TPBibliografíabásica4 de 57008 - Topografía IPLANIFICACIONESActualización: 1ºC/2016<1>09/03 al 14/03Introducción<2> 16/03 al 21/03Planotopográfico21 días<3> 23/03 al 28/03Sistemas deTeodolito, ánguloshorizontales -21 días<4> 30/03 al 04/04Teoría de losTeodolito, ángulosverticales21 días<5> 06/04 al 11/04Criterios deErrores <6> 13/04 al 18/04Criterios deexclusión  -Exclusiónprovisoria21 días<7> 20/04 al 25/04Criterios deChauvenetMétodo de Reiteración yRepetición21 días<8> 27/04 al 02/05Medición deángulos conTeodolitoMedición directa21 días<9> 04/05 al 09/05Proyección deEscalas. Errores21 días<10> 11/05 al 16/05EvaluaciónparcialSistemas de medidas21 días<11> 18/05 al 23/05Teodolito, ElAnteojo,Sistemas deGraduaciónErrores21 días<12> 25/05 al 30/05Erroressistemáticosdel teodolitoCriterio de ExclusiónProvisoria21 días<13> 01/06 al 06/06Medición deángulosVerticales.Criterio de Chauvenet21 días<14> 08/06 al 13/06Recuperatorio EvaluaciónParcialMedición estadimétrica21 días<15> 15/06 al 20/06MediciónDirecta deMediciónEstadimétricaMedición. paraláctica21 días<16> 22/06 al 27/06MediciónParaláctica.MediciónElectrónicaEstación TotalMedición Electroóptica dedistancias\n",
            "CALENDARIO DE EVALUACIONESEvaluación ParcialOportunidadSemanaFechaHoraAula5 de 57008 - Topografía IPLANIFICACIONESActualización: 1ºC/20161º1012/0514:003092º1416/0614:003093º07/0714:003094º\n"
          ]
        },
        {
          "output_type": "stream",
          "name": "stderr",
          "text": [
            "PdfReadWarning: Superfluous whitespace found in object header b'1' b'0' [pdf.py:1666]\n",
            "PdfReadWarning: Superfluous whitespace found in object header b'3' b'0' [pdf.py:1666]\n",
            "PdfReadWarning: Superfluous whitespace found in object header b'6' b'0' [pdf.py:1666]\n",
            "PdfReadWarning: Superfluous whitespace found in object header b'12' b'0' [pdf.py:1666]\n",
            "PdfReadWarning: Superfluous whitespace found in object header b'16' b'0' [pdf.py:1666]\n",
            "PdfReadWarning: Superfluous whitespace found in object header b'18' b'0' [pdf.py:1666]\n",
            "PdfReadWarning: Superfluous whitespace found in object header b'21' b'0' [pdf.py:1666]\n",
            "PdfReadWarning: Superfluous whitespace found in object header b'7' b'0' [pdf.py:1666]\n",
            "PdfReadWarning: Superfluous whitespace found in object header b'8' b'0' [pdf.py:1666]\n",
            "PdfReadWarning: Superfluous whitespace found in object header b'13' b'0' [pdf.py:1666]\n",
            "PdfReadWarning: Superfluous whitespace found in object header b'17' b'0' [pdf.py:1666]\n",
            "PdfReadWarning: Superfluous whitespace found in object header b'19' b'0' [pdf.py:1666]\n",
            "PdfReadWarning: Superfluous whitespace found in object header b'20' b'0' [pdf.py:1666]\n",
            "PdfReadWarning: Superfluous whitespace found in object header b'22' b'0' [pdf.py:1666]\n",
            "PdfReadWarning: Superfluous whitespace found in object header b'23' b'0' [pdf.py:1666]\n"
          ]
        }
      ]
    }
  ]
}